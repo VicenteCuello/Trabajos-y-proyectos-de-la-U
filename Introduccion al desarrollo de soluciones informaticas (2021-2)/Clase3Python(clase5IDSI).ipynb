{
 "cells": [
  {
   "cell_type": "code",
   "execution_count": 14,
   "id": "726a0b70",
   "metadata": {},
   "outputs": [
    {
     "name": "stdout",
     "output_type": "stream",
     "text": [
      "holamundo\n"
     ]
    }
   ],
   "source": [
    "print(\"hola\",end=\"\")\n",
    "print(\"mundo\")"
   ]
  },
  {
   "cell_type": "code",
   "execution_count": 10,
   "id": "1b89e11b",
   "metadata": {
    "scrolled": true
   },
   "outputs": [
    {
     "name": "stdout",
     "output_type": "stream",
     "text": [
      "M=-5\n",
      "5\n"
     ]
    }
   ],
   "source": [
    "#valor absoluto abs\n",
    "m=int(input(\"M=\"))\n",
    "print(abs(m))"
   ]
  },
  {
   "cell_type": "code",
   "execution_count": null,
   "id": "644feb1e",
   "metadata": {},
   "outputs": [],
   "source": [
    "#no se puede hacer con for\n",
    "n=int(input(\"n=\"))\n",
    "while n<1:\n",
    "    print(\"Error\")\n",
    "    n=int(input(\"n=\"))\n",
    "print(n)"
   ]
  },
  {
   "cell_type": "code",
   "execution_count": 5,
   "id": "c73701a6",
   "metadata": {},
   "outputs": [
    {
     "name": "stdout",
     "output_type": "stream",
     "text": [
      "n=10\n",
      "-2\n",
      "0\n",
      "2\n",
      "4\n",
      "6\n",
      "8\n",
      "Se acaba el ciclo\n"
     ]
    }
   ],
   "source": [
    "n=int(input(\"n=\"))\n",
    "for i in range(-2,n,2):         #valor donde parte el ciclo\n",
    "    print(i)\n",
    "print(\"Se acaba el ciclo\")   "
   ]
  },
  {
   "cell_type": "code",
   "execution_count": 6,
   "id": "94296f89",
   "metadata": {},
   "outputs": [
    {
     "name": "stdout",
     "output_type": "stream",
     "text": [
      "n=10\n",
      "0\n",
      "1\n",
      "2\n",
      "3\n",
      "4\n",
      "5\n",
      "6\n",
      "7\n",
      "8\n",
      "9\n",
      "Se acaba el ciclo\n"
     ]
    }
   ],
   "source": [
    "#for\n",
    "\n",
    "n=int(input(\"n=\"))\n",
    "for i in range(n):         #valor donde parte el ciclo\n",
    "    print(i)\n",
    "print(\"Se acaba el ciclo\")    \n"
   ]
  },
  {
   "cell_type": "code",
   "execution_count": 7,
   "id": "3d4c07fe",
   "metadata": {},
   "outputs": [
    {
     "name": "stdout",
     "output_type": "stream",
     "text": [
      "n=5\n",
      "0\n",
      "1\n",
      "2\n",
      "3\n",
      "4\n",
      "Se acaba el ciclo\n"
     ]
    }
   ],
   "source": [
    "#FORTRAN: formula translator\n",
    "\n",
    "n=int(input(\"n=\"))\n",
    "i=0                        #valor donde parte el ciclo\n",
    "while i<n:\n",
    "    print(i)\n",
    "    i=i+1\n",
    "print(\"Se acaba el ciclo\")"
   ]
  }
 ],
 "metadata": {
  "kernelspec": {
   "display_name": "Python 3 (ipykernel)",
   "language": "python",
   "name": "python3"
  },
  "language_info": {
   "codemirror_mode": {
    "name": "ipython",
    "version": 3
   },
   "file_extension": ".py",
   "mimetype": "text/x-python",
   "name": "python",
   "nbconvert_exporter": "python",
   "pygments_lexer": "ipython3",
   "version": "3.9.7"
  }
 },
 "nbformat": 4,
 "nbformat_minor": 5
}
