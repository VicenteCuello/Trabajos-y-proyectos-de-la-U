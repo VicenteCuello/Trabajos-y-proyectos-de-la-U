{
 "cells": [
  {
   "cell_type": "code",
   "execution_count": 28,
   "id": "fc22b6b3",
   "metadata": {},
   "outputs": [
    {
     "name": "stdout",
     "output_type": "stream",
     "text": [
      "Radio:3\n",
      "28.26\n",
      "Medio poto\n"
     ]
    }
   ],
   "source": [
    "#(*) es multiplicacion y (**) es elevado\n",
    "\n",
    "r=int(input(\"Radio:\"))\n",
    "A=3.14*r**2\n",
    "print(A)\n",
    "\n",
    "if A>10:\n",
    "    print(\"Medio poto\")\n",
    "else:\n",
    "    print(\"Normal\")\n",
    "   "
   ]
  },
  {
   "cell_type": "code",
   "execution_count": 27,
   "id": "04f9ba90",
   "metadata": {},
   "outputs": [
    {
     "name": "stdout",
     "output_type": "stream",
     "text": [
      "Radio:3\n",
      "28.26\n"
     ]
    }
   ],
   "source": [
    "#(*) es multiplicacion y (**) es elevado\n",
    "\n",
    "r=int(input(\"Radio:\"))\n",
    "A=3.14*r**2\n",
    "print(A)"
   ]
  },
  {
   "cell_type": "code",
   "execution_count": 15,
   "id": "11d835ab",
   "metadata": {},
   "outputs": [
    {
     "name": "stdout",
     "output_type": "stream",
     "text": [
      "Valor:12\n",
      "121 13 <class 'str'> <class 'int'>\n"
     ]
    }
   ],
   "source": [
    "#si solo pones input, te lo toma todo como str\n",
    "#si le agregas un int, te toma solo los int\n",
    "#Las variables se pueden sumar con el mismo tipo de variable\n",
    "\n",
    "c=input(\"Valor:\")\n",
    "C=int(c)\n",
    "c=c+\"1\"\n",
    "C=C+1\n",
    "print(c,C,type(c),type(C))"
   ]
  },
  {
   "cell_type": "code",
   "execution_count": 17,
   "id": "35987f06",
   "metadata": {
    "scrolled": false
   },
   "outputs": [
    {
     "name": "stdout",
     "output_type": "stream",
     "text": [
      "Cualquier cosa:1\n",
      "1 <class 'int'>\n"
     ]
    }
   ],
   "source": [
    "#si solo pones input, te lo toma todo como str\n",
    "#si le agregas un int, te toma solo los int\n",
    "\n",
    "c=int(input(\"Cualquier cosa:\"))\n",
    "print(c,type(c))"
   ]
  },
  {
   "cell_type": "code",
   "execution_count": 11,
   "id": "a7aad42e",
   "metadata": {},
   "outputs": [
    {
     "name": "stdout",
     "output_type": "stream",
     "text": [
      "123 12.345 Vicente True (5+3j)\n"
     ]
    }
   ],
   "source": [
    "#Tipos de datos\n",
    "\n",
    "var1=123              #variable entera o de punto fijo (int)\n",
    "var2=12.345           #variable real, float o de punto flotante (float)\n",
    "var3=\"Vicente\"        #variable string o cadena de simbolos (str)\n",
    "var4=True             #variable de tipo logico o boolean (bool)\n",
    "var5=5+3j             #variable de tipo complejo o complex (complex)\n",
    "\n",
    "print(var1,var2,var3,var4,var5)"
   ]
  },
  {
   "cell_type": "code",
   "execution_count": 7,
   "id": "e71a5736",
   "metadata": {},
   "outputs": [
    {
     "name": "stdout",
     "output_type": "stream",
     "text": [
      "Tu edad actual:19\n",
      "Tu edad en 5 años sera: 24\n"
     ]
    }
   ],
   "source": [
    "#variable: identificador en el cual una puede guardar uno o más datos\n",
    "\n",
    "var1 = int(input(\"Tu edad actual:\"))\n",
    "var2 = var1 + 5\n",
    "print(\"Tu edad en 5 años sera:\",var2)"
   ]
  },
  {
   "cell_type": "code",
   "execution_count": 6,
   "id": "0ce31287",
   "metadata": {},
   "outputs": [
    {
     "name": "stdout",
     "output_type": "stream",
     "text": [
      "123 128\n"
     ]
    }
   ],
   "source": [
    "#variable: identificador en el cual una puede guardar uno o más datos\n",
    "\n",
    "var1 = 123\n",
    "var2 = var1 + 5\n",
    "print(var1,var2)"
   ]
  },
  {
   "cell_type": "code",
   "execution_count": 5,
   "id": "517d5b90",
   "metadata": {},
   "outputs": [
    {
     "name": "stdout",
     "output_type": "stream",
     "text": [
      "123\n"
     ]
    }
   ],
   "source": [
    "#variable: identificador en el cual una puede guardar uno o más datos\n",
    "\n",
    "var1 = 123\n",
    "print(var1)"
   ]
  },
  {
   "cell_type": "code",
   "execution_count": 4,
   "id": "9352f716",
   "metadata": {
    "scrolled": true
   },
   "outputs": [
    {
     "name": "stdout",
     "output_type": "stream",
     "text": [
      "Ingresa tu nombre:Vicente\n",
      "Vicente\n"
     ]
    }
   ],
   "source": [
    "#input es para hacer una entrada o lectura de datos\n",
    "print(input(\"Ingresa tu nombre:\"))"
   ]
  },
  {
   "cell_type": "code",
   "execution_count": 3,
   "id": "67b712b4",
   "metadata": {},
   "outputs": [
    {
     "name": "stdout",
     "output_type": "stream",
     "text": [
      "Vicente\n",
      "Vicente\n"
     ]
    }
   ],
   "source": [
    "#input es para hacer una entrada o lectura de datos\n",
    "print(input())"
   ]
  },
  {
   "cell_type": "code",
   "execution_count": 2,
   "id": "e89e7cb5",
   "metadata": {},
   "outputs": [
    {
     "name": "stdout",
     "output_type": "stream",
     "text": [
      "Hola mundo\n",
      "Chao Chile, adios mundial\n"
     ]
    }
   ],
   "source": [
    "#salida (output) es con print\n",
    "\n",
    "print(\"Hola mundo\")\n",
    "print(\"Chao Chile, adios mundial\")"
   ]
  },
  {
   "cell_type": "code",
   "execution_count": 1,
   "id": "9ad1c46e",
   "metadata": {},
   "outputs": [
    {
     "data": {
      "text/plain": [
       "'comentario generico\\nde varias lineas'"
      ]
     },
     "execution_count": 1,
     "metadata": {},
     "output_type": "execute_result"
    }
   ],
   "source": [
    "#comentario generico\n",
    "\"\"\"comentario generico\n",
    "de varias lineas\"\"\""
   ]
  }
 ],
 "metadata": {
  "kernelspec": {
   "display_name": "Python 3 (ipykernel)",
   "language": "python",
   "name": "python3"
  },
  "language_info": {
   "codemirror_mode": {
    "name": "ipython",
    "version": 3
   },
   "file_extension": ".py",
   "mimetype": "text/x-python",
   "name": "python",
   "nbconvert_exporter": "python",
   "pygments_lexer": "ipython3",
   "version": "3.9.7"
  }
 },
 "nbformat": 4,
 "nbformat_minor": 5
}
