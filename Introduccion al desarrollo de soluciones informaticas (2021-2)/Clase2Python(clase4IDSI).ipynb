{
 "cells": [
  {
   "cell_type": "code",
   "execution_count": 20,
   "id": "b5397b1b",
   "metadata": {
    "scrolled": true
   },
   "outputs": [
    {
     "name": "stdout",
     "output_type": "stream",
     "text": [
      "n:4\n",
      "24\n"
     ]
    }
   ],
   "source": [
    "i=1\n",
    "f=1\n",
    "n=int(input(\"n:\"))\n",
    "while i<=n:\n",
    "    f=f*i\n",
    "    i=i+1\n",
    "print(f)"
   ]
  },
  {
   "cell_type": "code",
   "execution_count": 19,
   "id": "a8626515",
   "metadata": {},
   "outputs": [
    {
     "name": "stdout",
     "output_type": "stream",
     "text": [
      "Hola\n",
      "Hola\n",
      "Hola\n",
      "Hola\n",
      "Hola\n"
     ]
    }
   ],
   "source": [
    "#Estructura de control de repeticion\n",
    "#while-for\n",
    "i=0\n",
    "while i<5:\n",
    "    print(\"Hola\")\n",
    "    i=i+1"
   ]
  },
  {
   "cell_type": "code",
   "execution_count": null,
   "id": "88aab79f",
   "metadata": {},
   "outputs": [],
   "source": [
    "#elif: fusion del if y el else\n",
    "\n",
    "var=int(input(\"Numero:\"))\n",
    "if var==0:\n",
    "    print(\"Cero\")\n",
    "elif var==1:\n",
    "    print(\"Uno\")\n",
    "elif var==2:\n",
    "    print(\"Dos\")\n",
    "else:\n",
    "    print(\"No se\")\n",
    "    "
   ]
  },
  {
   "cell_type": "code",
   "execution_count": null,
   "id": "db536e91",
   "metadata": {
    "scrolled": true
   },
   "outputs": [],
   "source": [
    "var=int(input(\"Numero:\"))\n",
    "if var==0:\n",
    "    print(\"Cero\")\n",
    "else:\n",
    "    if var==1:\n",
    "        print(\"Uno\")\n",
    "    else:\n",
    "        if var==2:\n",
    "            print(\"Dos\")\n",
    "    \n",
    "\n",
    "    "
   ]
  },
  {
   "cell_type": "code",
   "execution_count": null,
   "id": "3c47af34",
   "metadata": {},
   "outputs": [],
   "source": [
    "#Estructura de selleccion (if)\n",
    "#else: para algo cuando la if no se cumple\n",
    "\n",
    "var=int(input(\"Numero:\"))\n",
    "par_o_impar=var%2\n",
    "if par_o_impar==0:\n",
    "    print(var,\"Es par.\")\n",
    "else:\n",
    "    print(var,\"Es impar.\")"
   ]
  },
  {
   "cell_type": "code",
   "execution_count": null,
   "id": "8e424a36",
   "metadata": {
    "scrolled": true
   },
   "outputs": [],
   "source": [
    "#Estructura de selleccion (if)\n",
    "#Operador de modulo (%): Cuantas cosas se quedan fuera de una grupacion. Ej: 7%2=1 porque el 2 cabe 3 veces en el siete, pero \n",
    "#hay un numero que queda fuera. 3%4=3 porque el 4 no cabe ninguna vez en el 3 por lo que sobran 3.\n",
    "\n",
    "var=int(input(\"Numero:\"))\n",
    "par_o_impar=var%2\n",
    "if par_o_impar==0:\n",
    "    print(var,\"Es par.\")      #bloque del if, donde estan todas las intrucciones que se ejecutan si son verdaderas.\n",
    "    var=var+1\n",
    "    print(\"El sucesor \",var,\"es impar.\")\n"
   ]
  }
 ],
 "metadata": {
  "kernelspec": {
   "display_name": "Python 3 (ipykernel)",
   "language": "python",
   "name": "python3"
  },
  "language_info": {
   "codemirror_mode": {
    "name": "ipython",
    "version": 3
   },
   "file_extension": ".py",
   "mimetype": "text/x-python",
   "name": "python",
   "nbconvert_exporter": "python",
   "pygments_lexer": "ipython3",
   "version": "3.9.7"
  }
 },
 "nbformat": 4,
 "nbformat_minor": 5
}
