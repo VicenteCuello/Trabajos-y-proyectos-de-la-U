{
 "cells": [
  {
   "cell_type": "code",
   "execution_count": 3,
   "id": "6203a631",
   "metadata": {},
   "outputs": [
    {
     "name": "stdout",
     "output_type": "stream",
     "text": [
      "N=-13\n",
      "Error, el valor ingresado tiene que ser no negativo\n",
      "N=13\n",
      "M=-10\n",
      "Error, el valor ingresado tiene que ser no negativo\n",
      "M=10\n",
      "-3\n"
     ]
    }
   ],
   "source": [
    "#ejercicio 1\n",
    "n=int(input(\"N=\"))\n",
    "while n<0:\n",
    "    print(\"Error, el valor ingresado tiene que ser no negativo\")\n",
    "    n=int(input(\"N=\"))\n",
    "m=int(input(\"M=\"))\n",
    "while m<0:\n",
    "    print(\"Error, el valor ingresado tiene que ser no negativo\")\n",
    "    m=int(input(\"M=\"))\n",
    "re=0\n",
    "if n>m:\n",
    "    print(\"-\",end=\"\")     #para que el menos este al lado del resultado\n",
    "    i=m\n",
    "    while i<n:\n",
    "        re=re+1\n",
    "        i=i+1\n",
    "\n",
    "else:\n",
    "    print(\"+\",end=\"\")     #para que el mas este al lado del resultado\n",
    "    i=n\n",
    "    while i<m:\n",
    "        re=re+1\n",
    "        i=i+1\n",
    "print(re)"
   ]
  },
  {
   "cell_type": "code",
   "execution_count": 6,
   "id": "cc850a19",
   "metadata": {},
   "outputs": [
    {
     "name": "stdout",
     "output_type": "stream",
     "text": [
      "Z=12\n",
      "12  no es un numero perfecto\n"
     ]
    }
   ],
   "source": [
    "#ejercicio 2\n",
    "#Paso 1: leer y validar numero de entrada (z)\n",
    "z=int(input(\"Z=\"))\n",
    "while z<=0:\n",
    "    print(\"Error, el valor ingresado tiene que ser no negativo\")\n",
    "    z=int(input(\"Z=\"))\n",
    "#Paso 2: calcular si z es perfecto (respuesta)\n",
    "respuesta=0\n",
    "suma_divisores=1\n",
    "for i in range(2,z):\n",
    "    if z%i==0:                                # el % es resto\n",
    "        suma_divisores=suma_divisores+i\n",
    "if suma_divisores!=z:                         # ! es distinto\n",
    "    respuesta=1\n",
    "#paso 3: mostrar el resultado (respuesta)\n",
    "if respuesta==0:\n",
    "    print(z,\" es un numero perfecto\")\n",
    "else:\n",
    "    print(z,\" no es un numero perfecto\")\n",
    "    \n"
   ]
  },
  {
   "cell_type": "code",
   "execution_count": null,
   "id": "9dbb6724",
   "metadata": {},
   "outputs": [],
   "source": []
  }
 ],
 "metadata": {
  "kernelspec": {
   "display_name": "Python 3 (ipykernel)",
   "language": "python",
   "name": "python3"
  },
  "language_info": {
   "codemirror_mode": {
    "name": "ipython",
    "version": 3
   },
   "file_extension": ".py",
   "mimetype": "text/x-python",
   "name": "python",
   "nbconvert_exporter": "python",
   "pygments_lexer": "ipython3",
   "version": "3.9.7"
  }
 },
 "nbformat": 4,
 "nbformat_minor": 5
}
